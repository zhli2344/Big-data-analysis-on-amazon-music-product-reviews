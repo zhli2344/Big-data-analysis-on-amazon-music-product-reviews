{
 "cells": [
  {
   "cell_type": "code",
   "execution_count": 1,
   "metadata": {},
   "outputs": [
    {
     "data": {
      "application/vnd.jupyter.widget-view+json": {
       "model_id": "890bfc14c0c64132bc9811a9e780eb38",
       "version_major": 2,
       "version_minor": 0
      },
      "text/plain": [
       "VBox()"
      ]
     },
     "metadata": {},
     "output_type": "display_data"
    },
    {
     "name": "stdout",
     "output_type": "stream",
     "text": [
      "Starting Spark application\n"
     ]
    },
    {
     "data": {
      "text/html": [
       "<table>\n",
       "<tr><th>ID</th><th>YARN Application ID</th><th>Kind</th><th>State</th><th>Spark UI</th><th>Driver log</th><th>Current session?</th></tr><tr><td>3</td><td>application_1558477459387_0004</td><td>pyspark</td><td>idle</td><td><a target=\"_blank\" href=\"http://ip-172-31-88-89.ec2.internal:20888/proxy/application_1558477459387_0004/\">Link</a></td><td><a target=\"_blank\" href=\"http://ip-172-31-94-114.ec2.internal:8042/node/containerlogs/container_1558477459387_0004_01_000001/livy\">Link</a></td><td>✔</td></tr></table>"
      ],
      "text/plain": [
       "<IPython.core.display.HTML object>"
      ]
     },
     "metadata": {},
     "output_type": "display_data"
    },
    {
     "name": "stdout",
     "output_type": "stream",
     "text": [
      "SparkSession available as 'spark'.\n"
     ]
    }
   ],
   "source": [
    "import numpy as np\n",
    "import nltk\n",
    "from pyspark.sql import SparkSession\n",
    "import pyspark.sql.functions as F\n",
    "from pyspark.sql.types import StructType, StructField, StringType, FloatType,DoubleType,ArrayType,IntegerType\n",
    "from pyspark.ml.feature import HashingTF, IDF, Tokenizer, Normalizer\n",
    "from pyspark.sql.functions import mean\n",
    "from pyspark.ml.feature import PCA,VectorAssembler"
   ]
  },
  {
   "cell_type": "code",
   "execution_count": 2,
   "metadata": {},
   "outputs": [
    {
     "data": {
      "application/vnd.jupyter.widget-view+json": {
       "model_id": "117602c1d51d44e6a7a0de306fbc8a11",
       "version_major": 2,
       "version_minor": 0
      },
      "text/plain": [
       "VBox()"
      ]
     },
     "metadata": {},
     "output_type": "display_data"
    },
    {
     "name": "stdout",
     "output_type": "stream",
     "text": [
      "'96'"
     ]
    }
   ],
   "source": [
    "sc._conf.get('spark.default.parallelism')"
   ]
  },
  {
   "cell_type": "code",
   "execution_count": 3,
   "metadata": {},
   "outputs": [
    {
     "data": {
      "application/vnd.jupyter.widget-view+json": {
       "model_id": "4477ad2c7caa4a84806c7aeeb631a1d4",
       "version_major": 2,
       "version_minor": 0
      },
      "text/plain": [
       "VBox()"
      ]
     },
     "metadata": {},
     "output_type": "display_data"
    }
   ],
   "source": [
    "rev_data = \"s3://amazon-reviews-pds/tsv/amazon_reviews_us_Music_v1_00.tsv.gz\""
   ]
  },
  {
   "cell_type": "code",
   "execution_count": 4,
   "metadata": {},
   "outputs": [
    {
     "data": {
      "application/vnd.jupyter.widget-view+json": {
       "model_id": "11b1d50b722545e98a8f9337336f55cd",
       "version_major": 2,
       "version_minor": 0
      },
      "text/plain": [
       "VBox()"
      ]
     },
     "metadata": {},
     "output_type": "display_data"
    }
   ],
   "source": [
    "spark = SparkSession \\\n",
    "    .builder \\\n",
    "    .config('spark.yarn.executor.memoryOverhead', 2048) \\\n",
    "    .appName(\"Spark Text Encoder example\") \\\n",
    "    .getOrCreate()\n",
    "\n",
    "ID = 'B00006J6VG'"
   ]
  },
  {
   "cell_type": "code",
   "execution_count": 5,
   "metadata": {},
   "outputs": [
    {
     "data": {
      "application/vnd.jupyter.widget-view+json": {
       "model_id": "0171201f6229464fb0ad2fd9630acd77",
       "version_major": 2,
       "version_minor": 0
      },
      "text/plain": [
       "VBox()"
      ]
     },
     "metadata": {},
     "output_type": "display_data"
    }
   ],
   "source": [
    "tokenizer = nltk.data.load('tokenizers/punkt/english.pickle')"
   ]
  },
  {
   "cell_type": "code",
   "execution_count": 6,
   "metadata": {},
   "outputs": [
    {
     "data": {
      "application/vnd.jupyter.widget-view+json": {
       "model_id": "b2b3074d33934335acd898404a5d15e2",
       "version_major": 2,
       "version_minor": 0
      },
      "text/plain": [
       "VBox()"
      ]
     },
     "metadata": {},
     "output_type": "display_data"
    }
   ],
   "source": [
    "# Positive vs. Negative Reviews\n",
    "\n",
    "records = spark.read.csv(rev_data, header=True, sep='\\t').cache()\n",
    "\n",
    "def splitSent(rev_text_partition):\n",
    "    rev_text_list = []\n",
    "    for review_id, review_body in rev_text_partition:\n",
    "        for idx, sent in enumerate(tokenizer.tokenize(review_body)):\n",
    "            rev_text_list.append((review_id + '+' + str(idx), sent))\n",
    "    return rev_text_list\n",
    "\n",
    "schema =  StructType([StructField(\"review_id\", StringType(), True),\n",
    "                      StructField(\"review_body\", StringType(), True)])\n",
    "\n",
    "pos_rdd = records.filter((records.product_id == ID) & (records.review_body.isNotNull()))\\\n",
    "                 .filter('star_rating>=4')\\\n",
    "                 .select('review_id','review_body')\\\n",
    "                 .rdd.mapPartitions(splitSent)\n",
    "                 #.zipWithIndex()\n",
    "\n",
    "neg_rdd = records.filter((records.product_id == ID) & (records.review_body.isNotNull()))\\\n",
    "                 .filter('star_rating<=2')\\\n",
    "                 .select('review_id','review_body')\\\n",
    "                 .rdd.mapPartitions(splitSent)\n",
    "                 #.zipWithIndex()\n",
    "                                                    \n",
    "positive = spark.createDataFrame(pos_rdd, schema=schema)\\\n",
    "                .withColumn('index',F.monotonically_increasing_id())\\\n",
    "                .cache()\n",
    "\n",
    "negative = spark.createDataFrame(neg_rdd, schema=schema)\\\n",
    "                .withColumn('index',F.monotonically_increasing_id())\\\n",
    "                .cache()"
   ]
  },
  {
   "cell_type": "code",
   "execution_count": 7,
   "metadata": {},
   "outputs": [
    {
     "data": {
      "application/vnd.jupyter.widget-view+json": {
       "model_id": "99cea61a45d24b4b9aee0d53dcdc2bcb",
       "version_major": 2,
       "version_minor": 0
      },
      "text/plain": [
       "VBox()"
      ]
     },
     "metadata": {},
     "output_type": "display_data"
    }
   ],
   "source": [
    "pos_review_id = pos_rdd.zipWithIndex().map(lambda x: (x[1],x[0][0]))\n",
    "pos_review_body =  pos_rdd.zipWithIndex().map(lambda x: (x[1],x[0][1]))\n",
    "\n",
    "neg_review_id = neg_rdd.zipWithIndex().map(lambda x: (x[0][0],x[1]))\n",
    "neg_review_body = neg_rdd.zipWithIndex().map(lambda x: (x[1],x[0][1]))"
   ]
  },
  {
   "cell_type": "code",
   "execution_count": 9,
   "metadata": {
    "scrolled": false
   },
   "outputs": [
    {
     "data": {
      "application/vnd.jupyter.widget-view+json": {
       "model_id": "8bd8120809dd4cbfa37cf010719636ee",
       "version_major": 2,
       "version_minor": 0
      },
      "text/plain": [
       "VBox()"
      ]
     },
     "metadata": {},
     "output_type": "display_data"
    },
    {
     "name": "stdout",
     "output_type": "stream",
     "text": [
      "10108 positive reviews:\n",
      "+----------------+--------------------+--------------------+-----+\n",
      "|       review_id|         review_body|       features_norm|index|\n",
      "+----------------+--------------------+--------------------+-----+\n",
      "|R3R7MRNK5HPULY+0|Good Charlotte's ...|(512,[3,8,17,30,8...|    0|\n",
      "| RQ9PYEGZ1N6LS+0|My daughter loves...|(512,[202,455,476...|    1|\n",
      "|R1P3A5U0M98JWW+0|              thanks|    (512,[94],[1.0])|    2|\n",
      "|R2TYDS7G24XRZC+0|vey good, I was c...|(512,[1,2,9,23,24...|    3|\n",
      "|R14IHG9LSIZLZK+0|I love this cd, I...|(512,[6,26,35,82,...|    4|\n",
      "+----------------+--------------------+--------------------+-----+\n",
      "only showing top 5 rows\n",
      "\n",
      "3303 negative reviews:\n",
      "+----------------+--------------------+--------------------+-----+\n",
      "|       review_id|         review_body|       features_norm|index|\n",
      "+----------------+--------------------+--------------------+-----+\n",
      "|R2F6WAB05QY47M+0|I would rather go...|(512,[29,47,52,55...|    0|\n",
      "|R2F6WAB05QY47M+1|This is the garba...|(512,[17,22,29,44...|    1|\n",
      "|R2LKFD8AW9N76U+0|I'm listening to ...|(512,[24,228,244,...|    2|\n",
      "|R2LKFD8AW9N76U+1|If this was five ...|(512,[35,112,159,...|    3|\n",
      "|R2LKFD8AW9N76U+2|That being said t...|(512,[14,16,133,2...|    4|\n",
      "+----------------+--------------------+--------------------+-----+\n",
      "only showing top 5 rows"
     ]
    }
   ],
   "source": [
    "def tfidfConvert(df):\n",
    "    tokenizer = Tokenizer(inputCol=\"review_body\", outputCol=\"words\")\n",
    "    wordsData = tokenizer.transform(df)\n",
    "\n",
    "    hashingTF = HashingTF(inputCol=\"words\", outputCol=\"rawFeatures\", numFeatures=512)\n",
    "    featurizedData = hashingTF.transform(wordsData)\n",
    "\n",
    "    idf = IDF(inputCol=\"rawFeatures\", outputCol=\"features\")\n",
    "    idfModel = idf.fit(featurizedData)\n",
    "    rescaledData = idfModel.transform(featurizedData)\n",
    "    norm =  Normalizer(inputCol=\"features\", \n",
    "                       outputCol=\"features_norm\", p=2)\\\n",
    "                      .transform(rescaledData)\\\n",
    "                      .select('review_id', 'review_body','features_norm')\\\n",
    "                      .cache()\n",
    "\n",
    "    return norm\n",
    "\n",
    "positive_emb = tfidfConvert(positive).withColumn('index',F.monotonically_increasing_id()).cache()\n",
    "negative_emb = tfidfConvert(negative).withColumn('index',F.monotonically_increasing_id()).cache()\n",
    "\n",
    "print(pos_review_id.count(),'positive reviews:')\n",
    "positive_emb.show(5)\n",
    "print(neg_review_id.count(),'negative reviews:')\n",
    "negative_emb.show(5)\n"
   ]
  },
  {
   "cell_type": "code",
   "execution_count": 10,
   "metadata": {},
   "outputs": [
    {
     "data": {
      "application/vnd.jupyter.widget-view+json": {
       "model_id": "19cfaedfb4084f0daf113b1e72478756",
       "version_major": 2,
       "version_minor": 0
      },
      "text/plain": [
       "VBox()"
      ]
     },
     "metadata": {},
     "output_type": "display_data"
    }
   ],
   "source": [
    "#For Positive reviews: using PCA to reduce the dimension to 436 which contains 95% information\n",
    "\n",
    "def positive_pca(df):\n",
    "    pca = PCA(k=436, inputCol=\"features_norm\", outputCol=\"pca\")\n",
    "    pca_result = lambda vectors : pca.fit(vectors).transform(vectors).select('pca')\n",
    "    positive_pca_result = pca_result(df) \\\n",
    "                        .withColumn('index',F.monotonically_increasing_id())  \n",
    "    return  positive_pca_result\n",
    "\n",
    "def positive_cosine_dis(item):\n",
    "    dis_list = []\n",
    "    pca_bdt = positive_pca_broadcast.value\n",
    "    cos = lambda vector1,vector2 : np.dot(vector1,vector2)/(np.linalg.norm(vector1)*(np.linalg.norm(vector2)))\n",
    "    for i in range(item[0]+1,len(pca_bdt)):\n",
    "        dis_list.append([pca_bdt[i][0],1-cos(item[1],pca_bdt[i][1])])\n",
    "    return [[(item[0],i[0]), i[1].tolist()] for i in dis_list]\n",
    "\n",
    "def positive_cosine_dis_each():\n",
    "    positive_distance_rdd = positive_pca_result.rdd.repartition(128) \\\n",
    "                                               .map(lambda item: (item[1],np.array(item[0]))) \\\n",
    "                                               .flatMap(positive_cosine_dis) \\\n",
    "                                               .cache()\n",
    "    positive_distance_df = spark.createDataFrame(positive_distance_rdd, ['point','distance'])\n",
    "    return positive_distance_df\n",
    "\n",
    "\n",
    "#For Negative reviews: without using PCA\n",
    "sim_calculator = F.udf(lambda emba, embb : 1 - float(emba.dot(embb)), returnType=FloatType())\n",
    "\n",
    "def negative_withoutPCA(df):\n",
    "    negative_result = df.select(F.col('review_id').alias('rev_a'), F.col('features_norm').alias('emba')) \\\n",
    "                             .crossJoin(df.select(F.col('review_id').alias('rev_b'), F.col('features_norm').alias('embb'))) \\\n",
    "                             .filter(F.col('rev_a') > F.col('rev_b')).repartition(128) \\\n",
    "                             .withColumn('sim', sim_calculator('emba', 'embb')) \\\n",
    "                             .drop('emba', 'embb').cache()\n",
    "    return negative_result\n"
   ]
  },
  {
   "cell_type": "code",
   "execution_count": 11,
   "metadata": {},
   "outputs": [
    {
     "data": {
      "application/vnd.jupyter.widget-view+json": {
       "model_id": "f1988263041745a5bbda3ba4f5b03846",
       "version_major": 2,
       "version_minor": 0
      },
      "text/plain": [
       "VBox()"
      ]
     },
     "metadata": {},
     "output_type": "display_data"
    },
    {
     "name": "stdout",
     "output_type": "stream",
     "text": [
      "positive reviews average cosine distance:\n",
      "+------------------+\n",
      "|     avg(distance)|\n",
      "+------------------+\n",
      "|0.9594840008378294|\n",
      "+------------------+\n",
      "\n",
      "negative reviews average cosine distance:\n",
      "+------------------+\n",
      "|     avg(distance)|\n",
      "+------------------+\n",
      "|0.9590096414403552|\n",
      "+------------------+"
     ]
    }
   ],
   "source": [
    "#calculate mean for the distance for each class\n",
    "positive_pca_result = positive_pca(positive_emb)\n",
    "positive_pca_broadcast = positive_pca_result\\\n",
    "                         .rdd.map(lambda item: (item[1],np.array(item[0])))\\\n",
    "                         .collect()\n",
    "positive_pca_broadcast =sc.broadcast(positive_pca_broadcast)\n",
    "\n",
    "positive_distance_df = positive_cosine_dis_each()\n",
    "avg_positive_distance = positive_distance_df.select(mean(positive_distance_df.distance))\n",
    "print('positive reviews average cosine distance:')\n",
    "avg_positive_distance.show()\n",
    "\n",
    "negative_distance = negative_withoutPCA(negative_emb)\n",
    "avg_neg_dist = negative_distance.agg(F.avg(F.col('sim'))).collect()[0][0]\n",
    "avg_negative_distance = spark.createDataFrame(sc.parallelize([('avg', avg_neg_dist)]),['avg','avg(distance)']).select('avg(distance)')\n",
    "print('negative reviews average cosine distance:')\n",
    "avg_negative_distance.show()\n"
   ]
  },
  {
   "cell_type": "code",
   "execution_count": 13,
   "metadata": {},
   "outputs": [
    {
     "data": {
      "application/vnd.jupyter.widget-view+json": {
       "model_id": "88c6f3c9acd94c6facacb85450afd7af",
       "version_major": 2,
       "version_minor": 0
      },
      "text/plain": [
       "VBox()"
      ]
     },
     "metadata": {},
     "output_type": "display_data"
    }
   ],
   "source": [
    "#create the index -> distance_list df, the distance_list contains all points and distance it connects\n",
    "def transform_distance_rdd(df):\n",
    "    '''\n",
    "    combine the key with connected all points and distance to form the new rdd \n",
    "    '''\n",
    "    trans_rdd = df.rdd.flatMap(lambda item : [[item[0][0],(item[0][1],item[1])],[item[0][1],(item[0][0],item[1])]]) \\\n",
    "                                .mapValues(lambda val : [val]) \\\n",
    "                                .reduceByKey(lambda x,y: x+y)\n",
    "    return trans_rdd\n",
    "\n",
    "def min_avg_distance(df):\n",
    "    '''\n",
    "    calculate the minimum avg distance for each point\n",
    "    return the index of the minimum row that is the class centre\n",
    "    '''\n",
    "    avg_distance_udf = F.udf(lambda distance_list: float(np.mean(np.array(distance_list)[:,1],axis=0)), DoubleType())\n",
    "    return df.withColumn('avg_distance',avg_distance_udf(df.distance_list)) \\\n",
    "                        .drop('distance_list') \\\n",
    "                        .rdd \\\n",
    "                        .reduce(lambda x,y : (x[0],x[1]) if (x[1] < y[1]) else (y[0],y[1]))[0]\n",
    "\n",
    "def get_positive_index(index,df,class_df):\n",
    "    '''\n",
    "    input: index of the class centre, df\n",
    "    output: the 10 nearest neighbors list of the index\n",
    "    \n",
    "    '''\n",
    "    rdd = df.filter(df.index == index).select('distance_list') \\\n",
    "            .rdd.flatMap(lambda data: [[item[0],item[1]]for item in data.distance_list])\n",
    "    index_list = spark.createDataFrame(rdd,['index','distance']) \\\n",
    "                        .orderBy(F.asc('distance')) \\\n",
    "                        .limit(10) \\\n",
    "                        .select('index') \\\n",
    "                        .collect()\n",
    "    index_list = [item['index'] for item in index_list] #top 10 nearest neighbors index list\n",
    "    return index_list\n",
    "\n",
    "\n",
    "def get_negative_id():\n",
    "    unoin_negative = negative_distance.select(F.col('rev_a').alias('rev_id'), 'sim') \\\n",
    "                               .union(negative_distance.select(F.col('rev_b').alias('rev_id'), 'sim')) \\\n",
    "                               .groupby('rev_id').agg(F.avg(F.col('sim')).alias('sim_avg')) \\\n",
    "                               .orderBy('sim_avg').head(1)[0]\n",
    "    negative_center = unoin_negative[0]\n",
    "    return negative_center\n"
   ]
  },
  {
   "cell_type": "code",
   "execution_count": 14,
   "metadata": {},
   "outputs": [
    {
     "data": {
      "application/vnd.jupyter.widget-view+json": {
       "model_id": "2527a531797341f2ad961491fc4df34f",
       "version_major": 2,
       "version_minor": 0
      },
      "text/plain": [
       "VBox()"
      ]
     },
     "metadata": {},
     "output_type": "display_data"
    }
   ],
   "source": [
    "positive_distance_list_df = spark\\\n",
    "                            .createDataFrame(transform_distance_rdd(positive_distance_df),\n",
    "                                             ['index','distance_list'])\n",
    "positive_centre_index = min_avg_distance(positive_distance_list_df)\n",
    "positive_neighbors_index = get_positive_index(positive_centre_index,positive_distance_list_df,positive_emb)\n",
    "\n",
    "\n",
    "negative_center=get_negative_id()\n",
    "negative_udf = F.udf(lambda reva, revb :  reva if reva != negative_center else revb, returnType=StringType())\n",
    "negative_neighbors = negative_distance\\\n",
    "                        .filter((F.col('rev_a') == negative_center) | (F.col('rev_b') == negative_center)) \\\n",
    "                        .withColumn('review_id', negative_udf('rev_a', 'rev_b')).drop('rev_a', 'rev_b') \\\n",
    "                        .join(negative, 'review_id').orderBy('sim').head(10)\n"
   ]
  },
  {
   "cell_type": "code",
   "execution_count": 15,
   "metadata": {
    "scrolled": false
   },
   "outputs": [
    {
     "data": {
      "application/vnd.jupyter.widget-view+json": {
       "model_id": "159febc6b0fa4ae8b2de2dacc83e88bf",
       "version_major": 2,
       "version_minor": 0
      },
      "text/plain": [
       "VBox()"
      ]
     },
     "metadata": {},
     "output_type": "display_data"
    },
    {
     "name": "stdout",
     "output_type": "stream",
     "text": [
      "Positive center index: 9323\n",
      "center review_id: R3IAOTJZNHP373\n",
      "center sentence: ['Hey kids my name is courtney and i just wanted to write a review to tell you about the cd and why its really awesome...I reallyhave never experenced this much of a impact in my life threw music...Good Charlottes debuet ablum was awesome the hit songs like Little Things, Motavation Proclamation, and the Festival song have true meaning and alot of there other songs did..But the new ablum the young and the hopeless talks about how yeh they wernt Mr.Popular in school (another loser Anthem) and sometimes there were sick of hanging in there but they wanted to hold on and they want you to hold on too (hold on) they have been through alot of stuff alot of us have been threw..some people may no like them but...just give them a chance there really awesome guys ( i met them) they are nice and they dont care who you are and they want you to know that u may not be in the in crowd because your better then that..there music gives me strength...and i think it would give you some too..so just give them the chance buy the cd!']\n",
      "\n",
      "-------------------------------------------------------------------------------------\n",
      "\n",
      "1 nearest neighbor index: 8597 \n",
      "review_id: R2QRBO0TL41WXL sentence: [\"The songs have so much heart in them and it's cool how they would write songs based on poems and that they would open up so much about how their Father left them to fend for themsleves.They send a message to all the kids out there with hard lifes and I think thats just what music needs.\"]\n",
      "\n",
      "2 nearest neighbor index: 8342 \n",
      "review_id: R1WJSLS3LOSYNX sentence: ['there songs arent just about love and the regular pop songs they are abou loosing a dad or not fiting in they sing about real things and make you feel like you could you do anything and they are really great at what they do, this cd is really worth buying !!']\n",
      "\n",
      "3 nearest neighbor index: 9422 \n",
      "review_id: RH67YDIJY5HFX sentence: ['there are a veriaty of songs on this cd speaking to almost everyone, there are songs about what they have went through with there father and how they lived before there &quot;stardom&quot; and there are more serious songs about some people who have commited suicide and how it effects people.']\n",
      "\n",
      "4 nearest neighbor index: 1043 \n",
      "review_id: R29IVKQLYLUJPV sentence: [\"this cd is the best cd i have ever heard and whoever says anything bad about this cd dosn't know wht they are talking about.good charlotte expresses there feelings in there songs and a lot of people can relate to many of them.with their songs you can tell wht they have been through in life it is just magnificent.they are very nice people and you should not talk bad about people when you don't even pay attention to wht they are saying in there lyrics.i loved it!\"]\n",
      "\n",
      "5 nearest neighbor index: 2249 \n",
      "review_id: R2GZ3XN09XIE2E sentence: ['So if you want to completely ignore GC and not give them a chance just because they have a major label and have a bad image, thats fine.']\n",
      "\n",
      "6 nearest neighbor index: 1212 \n",
      "review_id: R22Z0WPBL4KEW7 sentence: [\"So I would recomend this CD and there first one to anyone who likes GOOD music and not the kind that always talks about death and negative things.And I hope the guy who called them &quot;Bad Charlotte&quot; sees this because this is dedicated to you and all the other GC haters..Ok I dont' know what your problem is and you need to get over yourselves and just because there popular and your favorite bands aren't you shouldn't get mad at them for being better then the bands you like.. you should look around and see how they affect other people and there song Hold On influced people to not committ suiced and has helped other people and gives people like me songs to relate to..\"]\n",
      "\n",
      "7 nearest neighbor index: 1760 \n",
      "review_id: RTEW7ZYKXX2TB sentence: [\"If they didn't care about the music, I really don't think they'd be touring nonstop (something alot of popular bands nowadays seem to not do enough of) and theywouldn't have just bought their own record label with alot of the money they made on this CD (DC Flag).\"]\n",
      "\n",
      "8 nearest neighbor index: 1299 \n",
      "review_id: R29LGNOI5P7BQ8 sentence: [\"!1111211&quot;.Sure,it's a nice song,but other bands have probably written better lyrics.Blink's lyrics are good because they write different things they went through,not just random stuff they wrote down because they thought it would relate to what happens to kids.Bleh bleh bleh :p<BR>(By the way,I know blink used to make strange,sort of gross songs but i'm talking about their new CD..so,yeah)<br />Insturments-If you think that GC are good at playing insturments,then your a pretty dumb person.Most of their songs sound the same.Tom and Mark play their guitar and bass clear and nicely together,and Travis is one of the best drummer's i've seen in a while.So BLEH!\"]\n",
      "\n",
      "9 nearest neighbor index: 6425 \n",
      "review_id: R1NXSI32G846DI sentence: ['i love this cd an i think everyone should have a copy because good charlotte is the bet they helped me thru some bad times and they are GREAT so everyone ned to  buy the cd because they are great guys and you need to support them in anyway you can and their music rawks!']\n",
      "\n",
      "10 nearest neighbor index: 1426 \n",
      "review_id: R2X50V2BCQ8F0Q sentence: [\"I was not expecting the song to be like that but you will have to listen to yourself it not one of my favorites.<br />Track 9 Riot Girl is good because any girl can relate to it if you really listen to the words.<br />My favorite track is 14 Movin On it has a wonderful beat and it just a great song.<br />Track 12 The young and the hopeless is also a favorite of mine because it does feel like parnets think that we are hopeless and we have to stick together.<br />Track 11 the day that I Die I do know but I just love this song to death it's sad to me but it get across a point.<br />Track 10 Say anything is one you can share with a family member, girlfriend/boyfriend or just one of your friends because it is about when things get tuff and you want the other person to say something to make you feel like they are still around.<br />Track 5 The story of my old man I think everyone needs to listen to that one because you never know what is going on in your father's head.\"]"
     ]
    }
   ],
   "source": [
    "print('Positive center index:',positive_centre_index)\n",
    "print('center review_id:',str((pos_review_id.lookup(positive_centre_index))).split('+')[0][2:])\n",
    "print('center sentence:',str(pos_review_body.lookup(positive_centre_index)))\n",
    "\n",
    "print('\\n-------------------------------------------------------------------------------------\\n')\n",
    "\n",
    "for idx in enumerate(positive_neighbors_index):\n",
    "    print(str(idx[0]+1),'nearest neighbor index:',\n",
    "          idx[1],'\\nreview_id:',str(pos_review_id.lookup(idx[1])).split('+')[0][2:],\n",
    "          'sentence:',str(pos_review_body.lookup(idx[1]))+'\\n')\n",
    "    "
   ]
  },
  {
   "cell_type": "code",
   "execution_count": 16,
   "metadata": {},
   "outputs": [
    {
     "data": {
      "application/vnd.jupyter.widget-view+json": {
       "model_id": "af45817de74f45dba739346a33222ec4",
       "version_major": 2,
       "version_minor": 0
      },
      "text/plain": [
       "VBox()"
      ]
     },
     "metadata": {},
     "output_type": "display_data"
    },
    {
     "name": "stdout",
     "output_type": "stream",
     "text": [
      "Negative center index: [2511]\n",
      "center review_id: R2K76T2GLNBUB\n",
      "center sentence: <br />Anyways, just to emphasize what most of the other reviews say, GC isn't punk, &quot;pop-punk&quot; isn't a category, MTV has ruined mainstream music, people that say GC is &quot;punk&quot; are just blonde cheerleaders and Avril Lavigne wannabes that have sub-human mental capacity, so, can you really blame them for getting the facts mixed up?<br />Also, GC fans, quit saying this band is talented, because they are not, and I bet all of you don't know what a scale or arpeggio is even if your life depended on it.<br />If you want simple three-chord rock that's good, get any MISFITS album, because they are three-chord rock, and they are better than GC...oh, wait a minute, they are not better, they are actually good, unlike GC, the most talent lacking band ever.<br />How they have so many fans baffles me.<br />In closing, if these guys still have their homes a few years from now, there is no justice in the world.\n",
      "\n",
      "-------------------------------------------------------------------------------------\n",
      "\n",
      "1 nearest neighbor index:2867\n",
      "review_id:R37ZWVIECOFHH5\n",
      "sentence:They are pop/punk, and the persons in the band are definately not punk, they just dress like that because they think that their clothes is what makes them punk.\n",
      "\n",
      "2 nearest neighbor index:1145\n",
      "review_id:R1FI6VXB3RHUCT\n",
      "sentence:Im sorry but anyone who listens to this and conciders themselves a &quot;punk&quot; is mistaken.. unfortunatly you are not a punk you are a pathetic person and you make people like myself very angry... whenever i see some wannabe punk kid whoes like 12 and wearing a good chalotte patch and an anarchy patch on a stupid vest i concider going home and shooting myself... in conclusion good charlotte has no talent and is just a big mtv sellout band.\n",
      "\n",
      "3 nearest neighbor index:2881\n",
      "review_id:RBBIC67FQDS89\n",
      "sentence:I don't dislike GC because they are posers, because image is not what makes the band, I just don't think that GC is that great of a band.\n",
      "\n",
      "4 nearest neighbor index:2312\n",
      "review_id:RJGXY7ZUOB9WB\n",
      "sentence:A certain reviewer said &quot;Alright many people dont like them because they are punk&quot;, and &quot;I recommed the Cd for anyone who likes punk.&quot; Honestly, I think that was a typo and that you meant to say &quot;many people don't like them because they are not punk, but claim to be punk.&quot; Anyways, I cringe when I think what else you think is &quot;punk.&quot;<br />Also you said &quot;Dont judge them just because they are popular, doesnt mean their pop.&quot; WTF?\n",
      "\n",
      "5 nearest neighbor index:2203\n",
      "review_id:R3L0QLN2J5NYUT\n",
      "sentence:<br />There is no difference between Good Charlotte and NSync, except Nsync doesn't claim the be punk.<br />here are some of the brilliant lyrics from good charlotte that show how much they deserve their popularity:<br />&quot;girls dont like boys girls like cars and money!<BR>boys will laugh at girls when they're not funny!&quot;<BR>-ok that second line doesnt even make sense, wtf<br />&quot;dotn say a word, I know you feel the same, just give me a sign,<br />say anything, say anything&quot;<BR>-ok so &quot;dont say a word&quot; and then &quot;say anything, say anything&quot;, wow, thats just brilliance right there.<br />&quot;if money is such a problem, maybe we sould rob them&quot;<BR>-alright well thats all the proof you need to see this CD is not for anyone over the age of 8.<br />conlusion: Good Charlotte is an aweful pop band that is only for little girls cuz they are too dumb to know that this band is horrible\n",
      "\n",
      "6 nearest neighbor index:1819\n",
      "review_id:RV9TLI1TKAOYP\n",
      "sentence:I play music and I am rating Good Charlotte on their music which is just plain horrible, I mean they have five people in their band, the lyrics are terrible but catchy, and if you are in high school this should be out of your CD player, if your in middle school then it is understandable.I can see why these punks are so pissed off, punk is about individuality, and people who tend to listen to this crap are not usually individuals.\n",
      "\n",
      "7 nearest neighbor index:501\n",
      "review_id:R24DPPKVHC5Q7G\n",
      "sentence:If people want to say that Good Charlotte is good, which they are not, then go ahead.\n",
      "\n",
      "8 nearest neighbor index:959\n",
      "review_id:RVDTHDQ8R551F\n",
      "sentence:HAHAHA, I love the fact that people, sorry, &quot;punk rock kids&quot; consider this punk, with GC poppy tones, professinal studio production, having a major label, and being MTV stars, you have to be &quot;punk,&quot; duh...Haha, wow if you ever disgrace the punk name by putting GC and punk in the same sentence, other then &quot;GC is not punk,&quot; then you must have, or still do eat paint chips, not to mention you're a poser, and most likely worship SLC PUNK.\n",
      "\n",
      "9 nearest neighbor index:1141\n",
      "review_id:R25XBVBWHQ5Y2Y\n",
      "sentence:I don't care how punk they supposedly look (I don't define myself by the way I dress or the music I listen to although others obsess over it), I don't care if they SAID they're punk or not, that's irrelevant, it's the fact that they get raving reviews for lyrics shallower than a hot tub and music that has no emotional substance to it and in which the guitars are two-dimensional (if they play them at all).<BR>What this band needs to do to be any good:<BR>1) Lose the corny name (bands named after someone's mother's name isn't the in thing)<BR>2) Take instrument playing 101<BR>3) Learn that there's more than one chord or riff possible to play on the guitar<BR>4) Lose the egotistical attitude and stop making their fans so narrowminded (musically)<BR>5) Write some lyrics with depth<br />Until then, all this deserves is one star, because that's the lowest rating I can give.<br />Try these rock albums for some good music:<br />Nu-metal/general rock:<BR>Flaw - Endangered Species<BR>Staind - 14 Shades of Grey<BR>Finger Eleven - Finger Eleven<BR>Sevendust - Seasons<BR>Heavy metal:<BR>Killswitch Engage - Alive Or Just Breathing?\n",
      "\n",
      "10 nearest neighbor index:3084\n",
      "review_id:R3PXRJ4YBHV09N+\n",
      "sentence:OPEN YOUR MINDS, and DON't PERCEIVE THIS AS A DISS TO GOOD CHARLOTTE alone- this is just to TRY TO AWAKEN PEOPLE's SENSES, that THIS MUSIC JUST ISN'T WORTH YOUR ATTENTION, coz there are a lot of other PUNK BANDS OUT THERE that are TRUE PUNK ...<br />HOPE YOU CAN SOMEWHAT RELATE, IF NOT, WELL AT LEAST I TRIED."
     ]
    }
   ],
   "source": [
    "print('Negative center index:',neg_review_id.lookup(negative_center))\n",
    "print('center review_id:',negative_center.split('+')[0])\n",
    "print('center sentence:',negative.filter(F.col('review_id') == negative_center).collect()[0][1])\n",
    "\n",
    "print('\\n-------------------------------------------------------------------------------------\\n')\n",
    "\n",
    "for idx,p in enumerate(negative_neighbors):\n",
    "    print(str(idx+1) + ' nearest neighbor index:' \n",
    "          + str(p[3]) + '\\nreview_id:' + p[0][:-2] \n",
    "          + '\\nsentence:' + p[2] + '\\n')\n",
    "       "
   ]
  },
  {
   "cell_type": "code",
   "execution_count": null,
   "metadata": {},
   "outputs": [],
   "source": []
  }
 ],
 "metadata": {
  "kernelspec": {
   "display_name": "PySpark",
   "language": "",
   "name": "pysparkkernel"
  },
  "language_info": {
   "codemirror_mode": {
    "name": "python",
    "version": 2
   },
   "mimetype": "text/x-python",
   "name": "pyspark",
   "pygments_lexer": "python2"
  }
 },
 "nbformat": 4,
 "nbformat_minor": 2
}
